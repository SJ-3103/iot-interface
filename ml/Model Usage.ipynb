{
 "cells": [
  {
   "cell_type": "code",
   "execution_count": 1,
   "metadata": {},
   "outputs": [],
   "source": [
    "from joblib import dump,load\n",
    "import numpy as np\n",
    "model=load('Price_Predictor.joblib')"
   ]
  },
  {
   "cell_type": "code",
   "execution_count": 2,
   "metadata": {},
   "outputs": [
    {
     "data": {
      "text/plain": [
       "array([74.48])"
      ]
     },
     "execution_count": 2,
     "metadata": {},
     "output_type": "execute_result"
    }
   ],
   "source": [
    "features=np.array([[1.10169342, 0.22523618, 0.49536243]])\n",
    "model.predict(features)"
   ]
  },
  {
   "cell_type": "code",
   "execution_count": 3,
   "metadata": {},
   "outputs": [],
   "source": [
    "ans=model.predict(features)\n",
    "msg=\"Fine\"\n",
    "if ans>=54:\n",
    "    msg=\"Good\"\n",
    "else:\n",
    "    msg=\"Bad and need State of concern less than normal condition\""
   ]
  },
  {
   "cell_type": "code",
   "execution_count": 4,
   "metadata": {},
   "outputs": [
    {
     "data": {
      "text/plain": [
       "{}"
      ]
     },
     "execution_count": 4,
     "metadata": {},
     "output_type": "execute_result"
    }
   ],
   "source": [
    "import smtplib    \n",
    "  \n",
    "s = smtplib.SMTP('smtp.gmail.com', 587)    \n",
    "  \n",
    "s.starttls()    \n",
    "\n",
    "s.login(\"satyamgoyal123456789@gmail.com\", \"brevfgeozzpyupmn\")    \n",
    "\n",
    "message = \"Hi Your Analysis Report says that the condition around plants are \"+ msg\n",
    "  \n",
    "s.sendmail(\"satyamgoyal123456789@gmail.com \", \"bhargavgoyal1711@gmail.com\", message)\n"
   ]
  }
 ],
 "metadata": {
  "kernelspec": {
   "display_name": "Python 3",
   "language": "python",
   "name": "python3"
  },
  "language_info": {
   "codemirror_mode": {
    "name": "ipython",
    "version": 3
   },
   "file_extension": ".py",
   "mimetype": "text/x-python",
   "name": "python",
   "nbconvert_exporter": "python",
   "pygments_lexer": "ipython3",
   "version": "3.8.3"
  }
 },
 "nbformat": 4,
 "nbformat_minor": 4
}
